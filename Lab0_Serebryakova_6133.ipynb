{
  "nbformat": 4,
  "nbformat_minor": 0,
  "metadata": {
    "colab": {
      "name": "Lab0_Serebryakova_6133.ipynb",
      "provenance": [],
      "include_colab_link": true
    },
    "kernelspec": {
      "name": "python3",
      "display_name": "Python 3"
    },
    "accelerator": "GPU"
  },
  "cells": [
    {
      "cell_type": "markdown",
      "metadata": {
        "id": "view-in-github",
        "colab_type": "text"
      },
      "source": [
        "<a href=\"https://colab.research.google.com/github/ellariona/labHPC/blob/lab1/Lab0_Serebryakova_6133.ipynb\" target=\"_parent\"><img src=\"https://colab.research.google.com/assets/colab-badge.svg\" alt=\"Open In Colab\"/></a>"
      ]
    },
    {
      "cell_type": "code",
      "metadata": {
        "id": "fm0RRqE_WQzw",
        "colab": {
          "base_uri": "https://localhost:8080/"
        },
        "outputId": "1a401b92-9552-474c-e49c-bb3a7de95b4c"
      },
      "source": [
        "!pip install pycuda"
      ],
      "execution_count": 1,
      "outputs": [
        {
          "output_type": "stream",
          "name": "stdout",
          "text": [
            "Collecting pycuda\n",
            "  Downloading pycuda-2021.1.tar.gz (1.7 MB)\n",
            "\u001b[K     |████████████████████████████████| 1.7 MB 4.2 MB/s \n",
            "\u001b[?25h  Installing build dependencies ... \u001b[?25l\u001b[?25hdone\n",
            "  Getting requirements to build wheel ... \u001b[?25l\u001b[?25hdone\n",
            "    Preparing wheel metadata ... \u001b[?25l\u001b[?25hdone\n",
            "Requirement already satisfied: appdirs>=1.4.0 in /usr/local/lib/python3.7/dist-packages (from pycuda) (1.4.4)\n",
            "Collecting mako\n",
            "  Downloading Mako-1.1.5-py2.py3-none-any.whl (75 kB)\n",
            "\u001b[K     |████████████████████████████████| 75 kB 4.3 MB/s \n",
            "\u001b[?25hCollecting pytools>=2011.2\n",
            "  Downloading pytools-2021.2.8.tar.gz (63 kB)\n",
            "\u001b[K     |████████████████████████████████| 63 kB 2.0 MB/s \n",
            "\u001b[?25hRequirement already satisfied: numpy>=1.6.0 in /usr/local/lib/python3.7/dist-packages (from pytools>=2011.2->pycuda) (1.19.5)\n",
            "Requirement already satisfied: MarkupSafe>=0.9.2 in /usr/local/lib/python3.7/dist-packages (from mako->pycuda) (2.0.1)\n",
            "Building wheels for collected packages: pycuda, pytools\n",
            "  Building wheel for pycuda (PEP 517) ... \u001b[?25l\u001b[?25hdone\n",
            "  Created wheel for pycuda: filename=pycuda-2021.1-cp37-cp37m-linux_x86_64.whl size=627558 sha256=c87a5bb39ebef5de5dec984fb5cd4dfb41d97cf296ac0d972b5c9fe78355d153\n",
            "  Stored in directory: /root/.cache/pip/wheels/c4/ef/49/dc6a5feb8d980b37c83d465ecab24949a6aa19458522a9e001\n",
            "  Building wheel for pytools (setup.py) ... \u001b[?25l\u001b[?25hdone\n",
            "  Created wheel for pytools: filename=pytools-2021.2.8-py2.py3-none-any.whl size=60725 sha256=c1e36c6a07121dc2b667dfa11d36a5e2dbc3f15aba4399098e82eb10df2bb578\n",
            "  Stored in directory: /root/.cache/pip/wheels/bd/2d/ef/0127a17bafa44971f11d05d0e38d7947144cf9e33313bf12a7\n",
            "Successfully built pycuda pytools\n",
            "Installing collected packages: pytools, mako, pycuda\n",
            "Successfully installed mako-1.1.5 pycuda-2021.1 pytools-2021.2.8\n"
          ]
        }
      ]
    },
    {
      "cell_type": "code",
      "metadata": {
        "id": "ziZX7VezGOEK",
        "colab": {
          "base_uri": "https://localhost:8080/",
          "height": 35
        },
        "outputId": "db1daafd-0dcd-44af-a0bd-e801205e7843"
      },
      "source": [
        "import pycuda.autoinit\n",
        "\n",
        "from pycuda.tools import make_default_context\n",
        "make_default_context().get_device().name()"
      ],
      "execution_count": 3,
      "outputs": [
        {
          "output_type": "execute_result",
          "data": {
            "application/vnd.google.colaboratory.intrinsic+json": {
              "type": "string"
            },
            "text/plain": [
              "'Tesla K80'"
            ]
          },
          "metadata": {},
          "execution_count": 3
        }
      ]
    },
    {
      "cell_type": "code",
      "metadata": {
        "id": "cAnsunLdy6if",
        "colab": {
          "base_uri": "https://localhost:8080/"
        },
        "outputId": "a0aee685-cd55-4342-e0a6-5957c07c7dd3"
      },
      "source": [
        "!lscpu |grep 'Model name'"
      ],
      "execution_count": 2,
      "outputs": [
        {
          "output_type": "stream",
          "name": "stdout",
          "text": [
            "Model name:          Intel(R) Xeon(R) CPU @ 2.30GHz\n"
          ]
        }
      ]
    },
    {
      "cell_type": "code",
      "metadata": {
        "id": "7YZUH6zOdJJl"
      },
      "source": [
        "import numpy as np\n",
        "from numpy import linalg as la\n",
        "from pycuda import driver, compiler, gpuarray, tools\n",
        "import pycuda.autoinit\n",
        "import time\n",
        "import seaborn as sns\n",
        "import pandas as pd\n",
        "\n",
        "\n",
        "matrix_size = 100\n",
        "\n",
        "#Вычисляем GPU\n",
        "def matmul_GPU(a_gpu,b_gpu,matrix_size=matrix_size):\n",
        "    kernel_code_template = \"\"\"\n",
        "    __global__ void MatrixMulKernel(float *A, float *B, float *C)\n",
        "    {\n",
        "const int row =  threadIdx.y + blockIdx.y * blockDim.y;\n",
        "                const int column = threadIdx.x + blockIdx.x * blockDim.x;\n",
        "                const int N = 128;\n",
        "                for(int i = 0; i < N; i++){\n",
        "                        C[column + row * N] += A[i + row * N] * B[column + i * N];              \n",
        "                }       \n",
        "        }\n",
        "\"\"\"\n",
        "\n",
        "    t_size = 2\n",
        "    b_size = t_size\n",
        "\n",
        "    kernel_code = kernel_code_template % {\n",
        "        'matrix_size': matrix_size,\n",
        "        'b_size': b_size,\n",
        "        }\n",
        "\n",
        "    mod = compiler.SourceModule(kernel_code)\n",
        "    \n",
        "    c_gpu = gpuarray.empty((matrix_size, matrix_size), np.float32)\n",
        "\n",
        "    matrixmul = mod.get_function(\"MatrixMulKernel\")\n",
        "\n",
        "    matrixmul(\n",
        "        a_gpu, b_gpu,\n",
        "        c_gpu,\n",
        "        grid = (matrix_size // t_size, matrix_size // t_size),\n",
        "        block = (t_size, t_size, 1),\n",
        "        )\n",
        "\n",
        "    return c_gpu\n",
        "\n",
        "#Вычисляем, CPU\n",
        "def matmul_CPU(A, B): #A - первая матрица; #B - вторая матрица.\n",
        "    C = np.zeros(shape=(A.shape[0], B.shape[1]))\n",
        "    for i in range(len(A)):\n",
        "        for j in range(len(B[0])):\n",
        "            for k in range(len(B)):\n",
        "                C[i][j] += A[i][k] * B[k][j]\n",
        "    return C"
      ],
      "execution_count": 4,
      "outputs": []
    },
    {
      "cell_type": "code",
      "metadata": {
        "id": "WucFeklndMUq",
        "colab": {
          "base_uri": "https://localhost:8080/"
        },
        "outputId": "3807640b-247e-4dd0-d152-ab719c69d7be"
      },
      "source": [
        "cpu_time = []\n",
        "gpu_time = []\n",
        "diffs = []\n",
        "\n",
        "for size in [128, 256, 512]:\n",
        "      a_cpu = np.random.randn(size, size).astype(np.float32)\n",
        "      b_cpu = np.random.randn(size, size).astype(np.float32)\n",
        "      #Измерение времени CPU\n",
        "      startCPU = time.time()\n",
        "      c_cpu = matmul_CPU(a_cpu, b_cpu)\n",
        "      timeCPU = time.time() -startCPU\n",
        "      cpu_time.append(timeCPU)\n",
        "      #Измерение времени GPU\n",
        "      a_gpu = gpuarray.to_gpu(a_cpu)\n",
        "      b_gpu = gpuarray.to_gpu(b_cpu)\n",
        "      startGPU = time.time()\n",
        "      c_gpu = matmul_GPU(a_gpu, b_gpu, size)\n",
        "      timeGPU = time.time()-startGPU\n",
        "      gpu_time.append(timeGPU)\n",
        "      #Работаем с разницей CPU-GPU\n",
        "      differensetime = timeCPU-timeGPU\n",
        "      diffs.append(differensetime)\n",
        "\n",
        "      print(\"Размерность матрицы:\", size)\n",
        "      print(\"CPU:\", timeCPU)\n",
        "      print(\"GPU:\", timeGPU)\n",
        "      print(\"CPU-GPU:\", differensetime)\n",
        "      print(\"\\n\")"
      ],
      "execution_count": 5,
      "outputs": [
        {
          "output_type": "stream",
          "name": "stderr",
          "text": [
            "/usr/local/lib/python3.7/dist-packages/ipykernel_launcher.py:34: UserWarning: The CUDA compiler succeeded, but said the following:\n",
            "nvcc warning : The 'compute_35', 'compute_37', 'compute_50', 'sm_35', 'sm_37' and 'sm_50' architectures are deprecated, and may be removed in a future release (Use -Wno-deprecated-gpu-targets to suppress warning).\n",
            "\n"
          ]
        },
        {
          "output_type": "stream",
          "name": "stdout",
          "text": [
            "Размерность матрицы: 128\n",
            "CPU: 3.0748579502105713\n",
            "GPU: 0.9866104125976562\n",
            "CPU-GPU: 2.088247537612915\n",
            "\n",
            "\n",
            "Размерность матрицы: 256\n",
            "CPU: 24.28925085067749\n",
            "GPU: 0.0068547725677490234\n",
            "CPU-GPU: 24.28239607810974\n",
            "\n",
            "\n",
            "Размерность матрицы: 512\n",
            "CPU: 192.6665575504303\n",
            "GPU: 0.02336859703063965\n",
            "CPU-GPU: 192.64318895339966\n",
            "\n",
            "\n"
          ]
        }
      ]
    }
  ]
}